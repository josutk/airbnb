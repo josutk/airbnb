{
 "cells": [
  {
   "cell_type": "code",
   "execution_count": 1,
   "id": "1a6e13d6",
   "metadata": {},
   "outputs": [
    {
     "name": "stderr",
     "output_type": "stream",
     "text": [
      "Some weights of the model checkpoint at bert-base-multilingual-cased were not used when initializing BertModel: ['cls.predictions.transform.LayerNorm.weight', 'cls.seq_relationship.bias', 'cls.predictions.transform.LayerNorm.bias', 'cls.predictions.decoder.weight', 'cls.predictions.transform.dense.bias', 'cls.seq_relationship.weight', 'cls.predictions.transform.dense.weight', 'cls.predictions.bias']\n",
      "- This IS expected if you are initializing BertModel from the checkpoint of a model trained on another task or with another architecture (e.g. initializing a BertForSequenceClassification model from a BertForPreTraining model).\n",
      "- This IS NOT expected if you are initializing BertModel from the checkpoint of a model that you expect to be exactly identical (initializing a BertForSequenceClassification model from a BertForSequenceClassification model).\n"
     ]
    }
   ],
   "source": [
    "import torch\n",
    "import torch.nn as nn\n",
    "import torch.optim as optim\n",
    "from torch.optim import lr_scheduler\n",
    "from torch.utils.data import Dataset, DataLoader\n",
    "from transformers import AutoTokenizer, AutoModel, AdamW\n",
    "class Net(nn.Module):\n",
    "    def __init__(self, model_name):\n",
    "        super(Net, self).__init__()\n",
    "        self.model = AutoModel.from_pretrained(model_name)\n",
    "        self.drop = nn.Dropout(p=0.2)\n",
    "        self.fc = nn.Linear(768, 1)\n",
    "        \n",
    "    def forward(self, ids, mask):        \n",
    "        \n",
    "        out = self.model(input_ids=ids,\n",
    "                         attention_mask=mask,\n",
    "                         output_hidden_states=False)\n",
    "            \n",
    "        out = self.drop(out[1])\n",
    "        outputs = self.fc(out)\n",
    "        return outputs\n",
    "\n",
    "class ReviewsDataset(Dataset):\n",
    "    def __init__(self, df, tokenizer, max_length):\n",
    "        self.df = df\n",
    "        self.max_len = max_length\n",
    "        self.tokenizer = tokenizer\n",
    "        self.text = self.df['comments'].values\n",
    "        self.y = df['review_scores_rating'].values\n",
    "        \n",
    "    def __len__(self):\n",
    "        return len(self.df)\n",
    "\n",
    "    def __getitem__(self, index):\n",
    "        text = self.text[index]\n",
    "        y = self.y[index]\n",
    "        \n",
    "        inputs_tokenizer = self.tokenizer(\n",
    "                                text,\n",
    "                                truncation=True,\n",
    "                                add_special_tokens=True,\n",
    "                                max_length=self.max_len,\n",
    "                                padding='max_length'\n",
    "                            )\n",
    "        \n",
    "        inputs_ids = inputs_tokenizer['input_ids']\n",
    "        inputs_mask = inputs_tokenizer['attention_mask']\n",
    "           \n",
    "        return {\n",
    "            'inputs_ids': torch.tensor(inputs_ids, dtype=torch.long),\n",
    "            'inputs_mask': torch.tensor(inputs_mask, dtype=torch.long),\n",
    "            'value': torch.tensor(y, dtype=torch.float)\n",
    "            \n",
    "        }\n",
    "model_name = 'bert-base-multilingual-cased'\n",
    "net = Net(model_name)\n"
   ]
  },
  {
   "cell_type": "code",
   "execution_count": 2,
   "id": "b07168fe",
   "metadata": {},
   "outputs": [
    {
     "data": {
      "text/plain": [
       "<All keys matched successfully>"
      ]
     },
     "execution_count": 2,
     "metadata": {},
     "output_type": "execute_result"
    }
   ],
   "source": [
    "net.load_state_dict(torch.load('Loss-Fold-0.bin'))"
   ]
  },
  {
   "cell_type": "code",
   "execution_count": 52,
   "id": "8af8cb55",
   "metadata": {},
   "outputs": [],
   "source": [
    "import pandas as pd\n",
    "df = pd.read_csv('test.csv')\n",
    "df['comments'] = df['comments'].astype(str)\n",
    "\n",
    "df['review_scores_rating'] = df['review_scores_rating'].astype(float)\n",
    "df = df[~df['review_scores_rating'].isna()]\n",
    "\n",
    "tokenizer = AutoTokenizer.from_pretrained('bert-base-multilingual-cased')"
   ]
  },
  {
   "cell_type": "code",
   "execution_count": 54,
   "id": "bd73aed9",
   "metadata": {},
   "outputs": [],
   "source": [
    "from tqdm.notebook import tqdm\n",
    "tokenizer = AutoTokenizer.from_pretrained('bert-base-multilingual-cased')\n",
    "train_dataset = ReviewsDataset(df, tokenizer=tokenizer, max_length=256)\n",
    "train_loader = DataLoader(train_dataset, batch_size=1, num_workers=2, shuffle=True, pin_memory=True, drop_last=True)\n",
    "\n",
    "@torch.no_grad()\n",
    "def valid_fn(model, dataloader, device):\n",
    "    model.eval()\n",
    "    model.to(device)\n",
    "    dataset_size = 0\n",
    "    running_loss = 0.0\n",
    "    \n",
    "    PREDS = []\n",
    "    \n",
    "    for step, data in enumerate(dataloader):\n",
    "        ids = data['inputs_ids'].to(device, dtype = torch.long)\n",
    "        mask = data['inputs_mask'].to(device, dtype = torch.long)\n",
    "        outputs = model(ids, mask)\n",
    "        PREDS.append(outputs.view(-1).cpu().detach().numpy()) \n",
    "    PREDS = np.concatenate(PREDS)    \n",
    "    return PREDS\n"
   ]
  },
  {
   "cell_type": "code",
   "execution_count": 55,
   "id": "610d8f21",
   "metadata": {},
   "outputs": [],
   "source": [
    "import numpy as np\n",
    "def inference(model, dataloader, device):\n",
    "    final_preds = []\n",
    "    model.eval()\n",
    "    preds = valid_fn(model, dataloader, device)\n",
    "    final_preds.append(preds)\n",
    "    \n",
    "    final_preds = np.array(final_preds)\n",
    "    final_preds = np.mean(final_preds, axis=0)\n",
    "    return final_preds\n",
    "result = inference(net, train_loader, 'cuda')"
   ]
  },
  {
   "cell_type": "code",
   "execution_count": 56,
   "id": "6496e1de",
   "metadata": {},
   "outputs": [
    {
     "data": {
      "text/plain": [
       "0.10480221646658998"
      ]
     },
     "execution_count": 56,
     "metadata": {},
     "output_type": "execute_result"
    }
   ],
   "source": [
    "from sklearn.metrics import mean_squared_error\n",
    "mean_squared_error(df['review_scores_rating'],result)"
   ]
  },
  {
   "cell_type": "markdown",
   "id": "c06986af",
   "metadata": {},
   "source": [
    "* O modelo apresenta um baixo mse demonstrando um bom fit com os dados reais, porém novamente o dado tem uma baixa quantidade de avaliações 'ruins' então o modelo vai \"tender\" as avaliações altas."
   ]
  }
 ],
 "metadata": {
  "kernelspec": {
   "display_name": "Python 3 (ipykernel)",
   "language": "python",
   "name": "python3"
  },
  "language_info": {
   "codemirror_mode": {
    "name": "ipython",
    "version": 3
   },
   "file_extension": ".py",
   "mimetype": "text/x-python",
   "name": "python",
   "nbconvert_exporter": "python",
   "pygments_lexer": "ipython3",
   "version": "3.8.0"
  }
 },
 "nbformat": 4,
 "nbformat_minor": 5
}
